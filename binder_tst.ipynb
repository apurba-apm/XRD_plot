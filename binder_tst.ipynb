{
 "cells": [
  {
   "cell_type": "markdown",
   "id": "79bed9f6-bd82-49e4-87d6-53f72b073b34",
   "metadata": {},
   "source": [
    "**Please paste your data in  xrd.txt**"
   ]
  },
  {
   "cell_type": "code",
   "execution_count": 15,
   "id": "0070e060-145d-47de-81f0-2395eda280e9",
   "metadata": {},
   "outputs": [],
   "source": [
    "import ipympl\n",
    "import numpy as np\n",
    "from matplotlib import pyplot as plt\n",
    "from matplotlib.pyplot import cm\n",
    "from mp_api.client import MPRester\n",
    "from pymatgen.analysis.diffraction.xrd import XRDCalculator\n",
    "from pymatgen.symmetry.analyzer import SpacegroupAnalyzer\n",
    "\n",
    "X, Y = np.loadtxt(\"xrd.txt\", unpack = True)\n",
    "yes = Yes = True\n",
    "No = no = False\n"
   ]
  },
  {
   "cell_type": "markdown",
   "id": "8bea2de2-f6d1-4a27-a2b8-7ce27b271c2d",
   "metadata": {},
   "source": [
    "<font color='red'> **Enter the Material  Project Code Here** </font> \\\n",
    "example: \\\n",
    "Mat = np.array([ \"mp-864966\",\"mp-33\"]) \\\n",
    "To plot or un-plot the vertical bar write like :\\\n",
    "Bar = no or Bar = yes"
   ]
  },
  {
   "cell_type": "markdown",
   "id": "e7d339ba-8133-48f6-ac7c-fcbed68ff49b",
   "metadata": {},
   "source": [
    " <font color='green'> **=============================================================================** \\ ===== </font> \n",
    " \n"
   ]
  },
  {
   "cell_type": "code",
   "execution_count": 16,
   "id": "0333d1c1-6891-485c-9048-c71090b2153b",
   "metadata": {},
   "outputs": [],
   "source": [
    "Mat = np.array([       \"mp-864966\", \"mp-33\"          ])\n",
    "Bar = yes\n"
   ]
  },
  {
   "cell_type": "code",
   "execution_count": null,
   "id": "85cfcc3f-38a5-40a3-a333-fe2d846a1fac",
   "metadata": {},
   "outputs": [],
   "source": []
  },
  {
   "cell_type": "code",
   "execution_count": null,
   "id": "1ffb7318-2ada-4c1f-84c7-15af8aa4752e",
   "metadata": {},
   "outputs": [],
   "source": [
    "\n",
    "\n",
    "\n"
   ]
  },
  {
   "cell_type": "code",
   "execution_count": null,
   "id": "c419613c-d33d-4f66-970e-3de9361b45e0",
   "metadata": {},
   "outputs": [],
   "source": [
    "%matplotlib ipympl\n",
    "plt.figure(figsize=(19,10.8))\n",
    "ccc = iter(cm.rainbow(np.linspace(0, 3, len(Mat)+1)))\n",
    "for mt in Mat:\n",
    "\n",
    "    with MPRester(api_key=\"U5f8moSqdUkYEVxZAvygKrCN3N7VOT3H\") as mpr:\n",
    "        \n",
    "        structure_RMS = mpr.get_structure_by_material_id(str(mt))\n",
    "       \n",
    "    sga_RMS = SpacegroupAnalyzer(structure_RMS)\n",
    "    conventional_structure_RMS = sga_RMS.get_conventional_standard_structure()\n",
    "    \n",
    "    calculator = XRDCalculator(wavelength=\"CuKa\")\n",
    "    pattern_RMS = calculator.get_pattern(conventional_structure_RMS,two_theta_range=(0,max(X)))\n",
    "    \n",
    "    c = next(ccc)\n",
    "    if Bar:\n",
    "        plt.bar(pattern_RMS.x, pattern_RMS.y,width = 0.1,label = mt, color=c)\n",
    "    for  i in range(len(pattern_RMS.x)):\n",
    "        tx_RMS = pattern_RMS.hkls[i][0]\n",
    "        plt.text(pattern_RMS.x[i],pattern_RMS.y[i]+3,tx_RMS['hkl'],ha='center',rotation='vertical',color=c)\n",
    "        \n",
    "yy = (Y *100 /max(Y)) \n",
    "plt.plot(X,yy,label ='raw data')\n",
    "plt.title(r' Intensity Vs 2$ \\theta $')\n",
    "plt.ylim(0, 115)\n",
    "plt.legend()\n",
    "plt.xlabel(r'$2\\theta \\ (degree) \\rightarrow$')\n",
    "plt.ylabel(r'Intensity (scalled) $\\rightarrow $')\n",
    "plt.grid()\n",
    "plt.tight_layout()\n",
    "plt.savefig('Plot.png', dpi=400)\n",
    "plt.show()    "
   ]
  },
  {
   "cell_type": "code",
   "execution_count": null,
   "id": "d227e5b4-4324-4048-833f-940f1dc4b9cc",
   "metadata": {},
   "outputs": [],
   "source": []
  }
 ],
 "metadata": {
  "kernelspec": {
   "display_name": "Python 3 (ipykernel)",
   "language": "python",
   "name": "python3"
  },
  "language_info": {
   "codemirror_mode": {
    "name": "ipython",
    "version": 3
   },
   "file_extension": ".py",
   "mimetype": "text/x-python",
   "name": "python",
   "nbconvert_exporter": "python",
   "pygments_lexer": "ipython3",
   "version": "3.10.14"
  }
 },
 "nbformat": 4,
 "nbformat_minor": 5
}
